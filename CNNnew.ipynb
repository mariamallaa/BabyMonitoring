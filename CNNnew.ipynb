{
  "nbformat": 4,
  "nbformat_minor": 0,
  "metadata": {
    "colab": {
      "name": "CNNnew.ipynb",
      "provenance": [],
      "collapsed_sections": [],
      "authorship_tag": "ABX9TyO83XgMWcUgUgHhLB56tQzL",
      "include_colab_link": true
    },
    "kernelspec": {
      "name": "python3",
      "display_name": "Python 3"
    },
    "accelerator": "GPU"
  },
  "cells": [
    {
      "cell_type": "markdown",
      "metadata": {
        "id": "view-in-github",
        "colab_type": "text"
      },
      "source": [
        "<a href=\"https://colab.research.google.com/github/mariamallaa/BabyMonitoring/blob/modules/CNNnew.ipynb\" target=\"_parent\"><img src=\"https://colab.research.google.com/assets/colab-badge.svg\" alt=\"Open In Colab\"/></a>"
      ]
    },
    {
      "cell_type": "code",
      "metadata": {
        "id": "b_LJ4HEIz1Yx",
        "colab_type": "code",
        "colab": {}
      },
      "source": [
        "\n",
        "%matplotlib inline\n",
        "from pycocotools.coco import COCO\n",
        "import numpy as np\n",
        "import skimage.io as io\n",
        "import matplotlib.pyplot as plt\n",
        "import pylab\n",
        "import os\n",
        "from glob import glob\n",
        "import shutil   \n",
        "import numpy as np\n",
        "from sklearn.model_selection import train_test_split\n",
        "import cv2 as cv\n",
        "\n",
        "import tensorflow as tf\n",
        "pylab.rcParams['figure.figsize'] = (8.0, 10.0)\n",
        "!wget http://images.cocodataset.org/annotations/annotations_trainval2014.zip\n",
        "!wget http://images.cocodataset.org/annotations/annotations_trainval2017.zip\n",
        "!unzip annotations_trainval2017.zip\n",
        "!unzip annotations_trainval2014.zip\n",
        "\n"
      ],
      "execution_count": 0,
      "outputs": []
    },
    {
      "cell_type": "code",
      "metadata": {
        "id": "16oU3_xA4AqW",
        "colab_type": "code",
        "colab": {}
      },
      "source": [
        "\n",
        "%matplotlib inline\n",
        "from pycocotools.coco import COCO\n",
        "import numpy as np\n",
        "import skimage.io as io\n",
        "import matplotlib.pyplot as plt\n",
        "import pylab\n",
        "import os\n",
        "from glob import glob\n",
        "import shutil   \n",
        "import numpy as np\n",
        "from sklearn.model_selection import train_test_split\n",
        "import cv2 as cv\n",
        "\n",
        "import tensorflow as tf\n",
        "dataDir='..'\n",
        "dataType='train2017'\n",
        "annFile='/content/annotations/instances_train2014.json'\n",
        "coco=COCO(annFile)\n",
        "\n",
        "!pip install gluoncv\n",
        "!pip install mxnet\n"
      ],
      "execution_count": 0,
      "outputs": []
    },
    {
      "cell_type": "code",
      "metadata": {
        "id": "wQVLecK_4jId",
        "colab_type": "code",
        "outputId": "bcd74b6c-0fdf-4b57-f2d3-fe3333917beb",
        "colab": {
          "resources": {
            "http://localhost:8080/nbextensions/google.colab/files.js": {
              "data": "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",
              "ok": true,
              "headers": [
                [
                  "content-type",
                  "application/javascript"
                ]
              ],
              "status": 200,
              "status_text": ""
            }
          },
          "base_uri": "https://localhost:8080/",
          "height": 74
        }
      },
      "source": [
        "\n",
        "# Colab library to upload files to notebook\n",
        "from google.colab import files\n",
        "\n",
        "# Install Kaggle library\n",
        "!pip install -q kaggle\n",
        "\n",
        "# Upload kaggle API key file\n",
        "uploaded = files.upload()\n",
        "\n",
        "!mkdir .kaggle\n",
        "!mv .kaggle /root/\n",
        "!mv kaggle.json /root/.kaggle/"
      ],
      "execution_count": 0,
      "outputs": [
        {
          "output_type": "display_data",
          "data": {
            "text/html": [
              "\n",
              "     <input type=\"file\" id=\"files-f7765d39-e4dc-4ea1-bb92-5aa04798b842\" name=\"files[]\" multiple disabled />\n",
              "     <output id=\"result-f7765d39-e4dc-4ea1-bb92-5aa04798b842\">\n",
              "      Upload widget is only available when the cell has been executed in the\n",
              "      current browser session. Please rerun this cell to enable.\n",
              "      </output>\n",
              "      <script src=\"/nbextensions/google.colab/files.js\"></script> "
            ],
            "text/plain": [
              "<IPython.core.display.HTML object>"
            ]
          },
          "metadata": {
            "tags": []
          }
        },
        {
          "output_type": "stream",
          "text": [
            "Saving kaggle.json to kaggle.json\n"
          ],
          "name": "stdout"
        }
      ]
    },
    {
      "cell_type": "code",
      "metadata": {
        "id": "PPrOO4D75EbV",
        "colab_type": "code",
        "outputId": "53ce130e-821e-47ba-e54e-bef69f2ed880",
        "colab": {
          "base_uri": "https://localhost:8080/",
          "height": 120
        }
      },
      "source": [
        "from google.colab import drive\n",
        "drive.mount('/content/drive')"
      ],
      "execution_count": 0,
      "outputs": [
        {
          "output_type": "stream",
          "text": [
            "Go to this URL in a browser: https://accounts.google.com/o/oauth2/auth?client_id=947318989803-6bn6qk8qdgf4n4g3pfee6491hc0brc4i.apps.googleusercontent.com&redirect_uri=urn%3aietf%3awg%3aoauth%3a2.0%3aoob&response_type=code&scope=email%20https%3a%2f%2fwww.googleapis.com%2fauth%2fdocs.test%20https%3a%2f%2fwww.googleapis.com%2fauth%2fdrive%20https%3a%2f%2fwww.googleapis.com%2fauth%2fdrive.photos.readonly%20https%3a%2f%2fwww.googleapis.com%2fauth%2fpeopleapi.readonly\n",
            "\n",
            "Enter your authorization code:\n",
            "··········\n",
            "Mounted at /content/drive\n"
          ],
          "name": "stdout"
        }
      ]
    },
    {
      "cell_type": "code",
      "metadata": {
        "id": "rY_83Wug5xFu",
        "colab_type": "code",
        "outputId": "d8cc5af2-eea6-4c4a-ad80-34c9a09411fe",
        "colab": {
          "base_uri": "https://localhost:8080/",
          "height": 104
        }
      },
      "source": [
        "!kaggle datasets download -d abhikjha/utk-face-cropped"
      ],
      "execution_count": 0,
      "outputs": [
        {
          "output_type": "stream",
          "text": [
            "Warning: Your Kaggle API key is readable by other users on this system! To fix this, you can run 'chmod 600 /root/.kaggle/kaggle.json'\n",
            "Downloading utk-face-cropped.zip to /content\n",
            " 98% 228M/232M [00:02<00:00, 71.6MB/s]\n",
            "100% 232M/232M [00:02<00:00, 81.9MB/s]\n"
          ],
          "name": "stdout"
        }
      ]
    },
    {
      "cell_type": "code",
      "metadata": {
        "id": "tbJNP5-p51C2",
        "colab_type": "code",
        "outputId": "44fc242a-e811-4c9c-9ac8-4ccff02d6658",
        "colab": {
          "base_uri": "https://localhost:8080/",
          "height": 104
        }
      },
      "source": [
        "!kaggle datasets download -d kwisatzhaderach/nist-mugshots"
      ],
      "execution_count": 0,
      "outputs": [
        {
          "output_type": "stream",
          "text": [
            "Warning: Your Kaggle API key is readable by other users on this system! To fix this, you can run 'chmod 600 /root/.kaggle/kaggle.json'\n",
            "Downloading nist-mugshots.zip to /content\n",
            "100% 3.49G/3.49G [01:04<00:00, 42.9MB/s]\n",
            "100% 3.49G/3.49G [01:04<00:00, 58.1MB/s]\n"
          ],
          "name": "stdout"
        }
      ]
    },
    {
      "cell_type": "code",
      "metadata": {
        "id": "dkbmsv-N53LF",
        "colab_type": "code",
        "colab": {}
      },
      "source": [
        "!unzip nist-mugshots.zip"
      ],
      "execution_count": 0,
      "outputs": []
    },
    {
      "cell_type": "code",
      "metadata": {
        "id": "eyvQA1Qr55YV",
        "colab_type": "code",
        "colab": {}
      },
      "source": [
        "!unzip utk-face-cropped.zip"
      ],
      "execution_count": 0,
      "outputs": []
    },
    {
      "cell_type": "code",
      "metadata": {
        "id": "3YEPqx1Z57SX",
        "colab_type": "code",
        "outputId": "6df187d1-ae2d-4dc0-fafe-b543f67d0bc2",
        "colab": {
          "base_uri": "https://localhost:8080/",
          "height": 33
        }
      },
      "source": [
        "#reading Image from utkcropped\n",
        "from glob import glob\n",
        "from pathlib import Path\n",
        "from commonfunctions import *\n",
        "import skimage.io as io\n",
        "from skimage.color import rgb2gray\n",
        "xnames=[]\n",
        "y=[]\n",
        "path_to_directory='/content/utkcropped'\n",
        "count=0\n",
        "files=glob(f\"/content/utkcropped/*.jpg\")\n",
        "\n",
        "\n",
        "from skimage.transform import resize\n",
        "\n",
        "from skimage import img_as_ubyte\n",
        "count=0\n",
        "for fname in files:\n",
        "  count+=1\n",
        "  xnames.append(fname)\n",
        "  '''\n",
        "  img=io.imread(fname)\n",
        "  gray = np.asarray(img)\n",
        "  #grayscale = rgb2gray(gray)\n",
        "  image_downscaled = resize(gray, (128, 128))\n",
        "  x.append(image_downscaled)\n",
        "  '''\n",
        "#show_images([x[0]])\n",
        "print(\"done\")"
      ],
      "execution_count": 0,
      "outputs": [
        {
          "output_type": "stream",
          "text": [
            "done\n"
          ],
          "name": "stdout"
        }
      ]
    },
    {
      "cell_type": "code",
      "metadata": {
        "id": "OJmt9MSW7Y9V",
        "colab_type": "code",
        "outputId": "f3715f8d-94b3-4488-e234-852989adfde8",
        "colab": {
          "base_uri": "https://localhost:8080/",
          "height": 50
        }
      },
      "source": [
        "from glob import glob\n",
        "from pathlib import Path\n",
        "from commonfunctions import *\n",
        "import skimage.io as io\n",
        "from skimage.color import rgb2gray\n",
        "from skimage.transform import resize\n",
        "from skimage import img_as_ubyte\n",
        "xnew=[]\n",
        "ynew=[]\n",
        "files=glob(f\"/content/drive/My Drive/COCOImages/*\")\n",
        "count=0\n",
        "for fname in files:\n",
        "  #print(fname)\n",
        "  count+=1\n",
        "  xnames.append(fname)\n",
        "  '''\n",
        "  img=io.imread(fname)\n",
        "  gray = np.asarray(img)\n",
        "  #grayscale = rgb2gray(gray)\n",
        "  image_downscaled = resize(gray, (128, 128))\n",
        "  gray2=tf.convert_to_tensor(gray)\n",
        "  gray2 = tf.expand_dims(gray2, -1)\n",
        "  xnew.append(image_downscaled)\n",
        "  print(count)\n",
        "  #xnew.append(grayscale)\n",
        "  '''\n",
        "print(count)\n",
        "#show_images([xnew[0]])\n",
        "#print(ynew[0])\n",
        "print(\"done\")"
      ],
      "execution_count": 0,
      "outputs": [
        {
          "output_type": "stream",
          "text": [
            "26080\n",
            "done\n"
          ],
          "name": "stdout"
        }
      ]
    },
    {
      "cell_type": "code",
      "metadata": {
        "id": "WpCouAd-8Cc1",
        "colab_type": "code",
        "outputId": "2a4a2680-02a5-4ea2-c977-c4901f54f2f8",
        "colab": {
          "base_uri": "https://localhost:8080/",
          "height": 33
        }
      },
      "source": [
        "print(len(xnames))"
      ],
      "execution_count": 83,
      "outputs": [
        {
          "output_type": "stream",
          "text": [
            "49789\n"
          ],
          "name": "stdout"
        }
      ]
    },
    {
      "cell_type": "code",
      "metadata": {
        "id": "4JuORPSB8Qjm",
        "colab_type": "code",
        "colab": {}
      },
      "source": [
        "ylabels=[]\n",
        "for xname in xnames:\n",
        "  if(\"/content/utkcropped\" in xname):\n",
        "    ylabels.append([0])\n",
        "  else:\n",
        "    ylabels.append([1])"
      ],
      "execution_count": 0,
      "outputs": []
    },
    {
      "cell_type": "code",
      "metadata": {
        "id": "_7rYEttljDA_",
        "colab_type": "code",
        "colab": {
          "base_uri": "https://localhost:8080/",
          "height": 33
        },
        "outputId": "e31507f8-0b96-4b40-b23d-dd75d2064f75"
      },
      "source": [
        "print(len(ylabels))"
      ],
      "execution_count": 84,
      "outputs": [
        {
          "output_type": "stream",
          "text": [
            "49789\n"
          ],
          "name": "stdout"
        }
      ]
    },
    {
      "cell_type": "code",
      "metadata": {
        "id": "f2UXXWPq-kCb",
        "colab_type": "code",
        "outputId": "7f3d5924-cd68-4a52-d26d-ae49b2acf233",
        "colab": {
          "base_uri": "https://localhost:8080/",
          "height": 33
        }
      },
      "source": [
        "#newdataX=np.asarray(newdataX)\n",
        "print(\"done\")\n",
        "X_train,X_test,y_train,y_test = train_test_split(xnames,ylabels,test_size = 0.2,random_state=109)\n",
        "X_testing,X_validate,y_testing,y_validate = train_test_split(X_test,y_test,test_size = 0.5,random_state=109)\n"
      ],
      "execution_count": 85,
      "outputs": [
        {
          "output_type": "stream",
          "text": [
            "done\n"
          ],
          "name": "stdout"
        }
      ]
    },
    {
      "cell_type": "code",
      "metadata": {
        "id": "5bq5SFS0-q9B",
        "colab_type": "code",
        "colab": {}
      },
      "source": [
        "\n",
        "import keras\n",
        "from keras.datasets import mnist\n",
        "from keras.models import Sequential\n",
        "from keras.layers import Dense, Dropout, Flatten,Lambda\n",
        "from keras.layers import Conv2D, MaxPooling2D\n",
        "import numpy as np\n",
        "from keras.models import model_from_json\n",
        "import os\n"
      ],
      "execution_count": 0,
      "outputs": []
    },
    {
      "cell_type": "code",
      "metadata": {
        "id": "J5KSMRDR-uA4",
        "colab_type": "code",
        "outputId": "b342130d-67cb-49d1-b169-1b0d8b946b70",
        "colab": {
          "base_uri": "https://localhost:8080/",
          "height": 50
        }
      },
      "source": [
        "batch_size = 64\n",
        "num_classes = 1\n",
        "epochs = 20\n",
        "\n",
        "# input image dimensions\n",
        "img_rows, img_cols = 28, 28\n",
        "\n",
        "#download mnist data and split into train and test sets\n",
        "\n",
        "#(X_train, y_train), (X_test, y_test) = mnist.load_data()\n",
        "\n",
        "import matplotlib.pyplot as plt\n",
        "\n",
        "#print(type(X_train))\n",
        "#plot the first image in the dataset\n",
        "#plt.imshow(X_train[0])\n",
        "\n",
        "#reshape data to fit model\n",
        "#X_train = X_train.reshape(60000,28,28,1)\n",
        "#X_test = X_test.reshape(10000,28,28,1)\n",
        "\n",
        "from keras.utils import to_categorical\n",
        "#one-hot encode target column\n",
        "'''\n",
        "y_train = to_categorical(y_train)\n",
        "y_test = to_categorical(y_test)\n",
        "y_train[0]\n",
        "\n",
        "'''\n",
        "import tensorflow as tf\n",
        "import keras.backend.tensorflow_backend as tfback\n",
        "\n",
        "print(\"tf.__version__ is\", tf.__version__)\n",
        "print(\"tf.keras.__version__ is:\", tf.keras.__version__)\n",
        "\n",
        "def _get_available_gpus():\n",
        "    \"\"\"Get a list of available gpu devices (formatted as strings).\n",
        "\n",
        "    # Returns\n",
        "        A list of available GPU devices.\n",
        "    \"\"\"\n",
        "    #global _LOCAL_DEVICES\n",
        "    if tfback._LOCAL_DEVICES is None:\n",
        "        devices = tf.config.list_logical_devices()\n",
        "        tfback._LOCAL_DEVICES = [x.name for x in devices]\n",
        "    return [x for x in tfback._LOCAL_DEVICES if 'device:gpu' in x.lower()]\n",
        "\n",
        "tfback._get_available_gpus = _get_available_gpus\n",
        "\n",
        "#K.set_image_dim_ordering('th')\n",
        "#create model\n",
        "model = Sequential()\n",
        "#add model layers\n",
        "def funclength(x):\n",
        "    print(x.shape)\n",
        "    return x\n",
        "def funcresult(x):\n",
        "    print(x)\n",
        "    print(x.eval())\n",
        "    return x\n",
        "\n",
        "\n",
        "model.add(Conv2D(8, kernel_size=(3, 3),\n",
        "                activation='relu', padding='same',\n",
        "                input_shape=(128,128,3)))\n",
        "#model.add(Lambda(funclength))\n",
        "\n",
        "model.add(MaxPooling2D(pool_size=(2, 2),strides=(2,2),padding='same'))\n",
        "#model.add(Lambda(funclength))\n",
        "\n",
        "model.add(Conv2D(16, kernel_size=(3, 3), \n",
        "                activation='relu',padding='same'))\n",
        "#model.add(Lambda(funclength))\n",
        "\n",
        "model.add(MaxPooling2D(pool_size=(2, 2),strides=(2,2),padding='same'))\n",
        "#model.add(Lambda(funclength))\n",
        "model.add(Conv2D(32, kernel_size=(3, 3), \n",
        "                activation='relu',padding='same'))\n",
        "\n",
        "#model.add(Lambda(funclength))\n",
        "model.add(Conv2D(16, kernel_size=(1, 1), \n",
        "                activation='relu',padding='same'))\n",
        "#model.add(Lambda(funclength))\n",
        "#model.add(Conv2D(32, kernel_size=(3, 3), \n",
        "#                activation='relu',padding='same'))\n",
        "#model.add(Lambda(funclength))\n",
        "model.add(MaxPooling2D(pool_size=(2,2),strides=(2,2),padding='same'))\n",
        "#model.add(Lambda(funclength))\n",
        "#model.add(Conv2D(64, kernel_size=(3, 3), \n",
        "#               activation='relu',padding='same'))\n",
        "#model.add(Lambda(funclength))\n",
        "\n",
        "\n",
        "#model.add(Dropout(0.25))\n",
        "model.add(Flatten())\n",
        "#model.add(Lambda(funclength))\n",
        "#model.add(Dense(128, activation='relu'))\n",
        "#model.add(Dropout(0.5))\n",
        "\n",
        "\n",
        "model.add(Dense(num_classes, activation='sigmoid'))\n",
        "\n",
        "#model.add(Lambda(funclength))\n",
        "#model.add(Lambda(funcresult))"
      ],
      "execution_count": 87,
      "outputs": [
        {
          "output_type": "stream",
          "text": [
            "tf.__version__ is 2.2.0\n",
            "tf.keras.__version__ is: 2.3.0-tf\n"
          ],
          "name": "stdout"
        }
      ]
    },
    {
      "cell_type": "code",
      "metadata": {
        "id": "TCfZYKiV-5Lv",
        "colab_type": "code",
        "colab": {}
      },
      "source": [
        "\n",
        "model.compile(loss=tf.keras.losses.BinaryCrossentropy(),\n",
        "            optimizer=keras.optimizers.Adadelta(),\n",
        "            metrics=['accuracy'])\n"
      ],
      "execution_count": 0,
      "outputs": []
    },
    {
      "cell_type": "code",
      "metadata": {
        "id": "AW8RjQE3J5m4",
        "colab_type": "code",
        "outputId": "4d733322-a13e-4d4a-8f63-53cabf502efd",
        "colab": {
          "base_uri": "https://localhost:8080/",
          "height": 50
        }
      },
      "source": [
        "print(len(xnames))\n",
        "xnamescopy=X_train.copy()\n",
        "y_traincopy=y_train.copy()\n",
        "print(len(xnamescopy))"
      ],
      "execution_count": 91,
      "outputs": [
        {
          "output_type": "stream",
          "text": [
            "49789\n",
            "39831\n"
          ],
          "name": "stdout"
        }
      ]
    },
    {
      "cell_type": "code",
      "metadata": {
        "id": "DLkHy36u_AOY",
        "colab_type": "code",
        "colab": {
          "base_uri": "https://localhost:8080/",
          "height": 722
        },
        "outputId": "da328f17-3e0a-45f3-9e43-7b30fb8974a3"
      },
      "source": [
        "'''\n",
        "X_trainsample=X_train[:5]\n",
        "y_trainsample=y_train[:5]\n",
        "X_validatesample=X_validate[:5]\n",
        "y_validatesample=y_validate[:5]\n",
        "'''\n",
        "import random\n",
        "\n",
        "\n",
        "#X_tensor = tf.convert_to_tensor(X_train)\n",
        "#y_tensor = tf.convert_to_tensor(y_train)\n",
        "#X_tensorval = tf.convert_to_tensor(X_validate)\n",
        "#y_tensorval = tf.convert_to_tensor(y_validate)\n",
        "batch_size = 24\n",
        "#print(X_tensor.shape)\n",
        "#xnamescopy=X_train.copy()\n",
        "#y_traincopy=y_train.copy()\n",
        "\n",
        "def gen(X_train,y_train):\n",
        "   \n",
        "    steps_per_epoch = len(X_train) // batch_size\n",
        "    for j in range(epochs):\n",
        "      xnamescopy=X_train.copy()\n",
        "      y_traincopy=y_train.copy()\n",
        "      \n",
        "      for i in range(steps_per_epoch):\n",
        "\n",
        "        batchx_train=[]\n",
        "        batchy_train=[]\n",
        "        for k in range(batch_size):\n",
        "          n = random.randint(0,len(xnamescopy))\n",
        "          #print(\"numbeeeeeeeeeeeeeeeeeeer\")\n",
        "          #print(len(xnamescopy))\n",
        "          #print(n)\n",
        "          img=io.imread(xnamescopy[n])\n",
        "          gray = np.asarray(img)\n",
        "          #grayscale = rgb2gray(gray)\n",
        "          image_downscaled = resize(gray, (128, 128))\n",
        "          #print(image_downscaled.shape)\n",
        "          if(image_downscaled.shape!=(128,128)):\n",
        "\n",
        "            #show_images([image_downscaled])\n",
        "            batchx_train.append(image_downscaled)\n",
        "            batchy_train.append(y_traincopy[n])\n",
        "          xnamescopy = xnamescopy[:n] + xnamescopy[n+1 :]\n",
        "          y_traincopy = y_traincopy[:n] + y_traincopy[n+1 :]\n",
        "        #print(len(batchx_train))\n",
        "        #print(len(batchx_train[0]))\n",
        "        \n",
        "        batchx_train_tensor = tf.convert_to_tensor(batchx_train)\n",
        "        batchy_train_tensor = tf.convert_to_tensor(batchy_train)\n",
        "        yield (batchx_train_tensor,\n",
        "            batchy_train_tensor)\n",
        "def genval():\n",
        "   \n",
        "    steps_per_epoch = len(X_tensorval) // batch_size\n",
        "    for j in range(epochs):\n",
        "      for i in range(steps_per_epoch):\n",
        "          yield (X_tensorval[batch_size * i : batch_size * (i + 1)],\n",
        "              y_tensorval[batch_size * i : batch_size * (i + 1)])\n",
        "\n",
        "#print(type(X_train))\n",
        "#X_NPArray=np.asarray(X_train)\n",
        "#print(X_tensor.shape)\n",
        "#print(y_tensor[0])\n",
        "model.fit(x=gen(X_train,y_train),\n",
        "        epochs=epochs,\n",
        "        \n",
        "        steps_per_epoch=5,\n",
        "        verbose=1\n",
        "        #validation_steps=(len(X_tensorval) // batch_size),\n",
        "        #validation_data=genval()\n",
        "        \n",
        "        )\n",
        "\n",
        "'''\n",
        "#print(X_train[0]*255)\n",
        "#print(y_train[0])\n",
        "'''\n",
        "'''\n",
        "model.fit([X_train], [y_train],\n",
        "        steps_per_epoch=5,\n",
        "        epochs=epochs,\n",
        "        verbose=1\n",
        "        #validation_data=(X_validate,y_validate)\n",
        "        \n",
        "        )\n",
        "'''\n",
        "'''\n",
        "#sess=tf.compat.v1.InteractiveSession()\n",
        "\n",
        "X_tensor = tf.cast(X_tensor, tf.float32)\n",
        "y=model(X_tensor)\n",
        "  #tf.enable_eager_execution()\n",
        "print(y)\n",
        "from keras import backend as K\n",
        "\n",
        "k_value = K.eval(y)\n",
        "print(k_value[0])\n",
        "'''"
      ],
      "execution_count": 92,
      "outputs": [
        {
          "output_type": "stream",
          "text": [
            "Epoch 1/20\n",
            "5/5 [==============================] - 24s 5s/step - loss: 0.6503 - accuracy: 0.5667\n",
            "Epoch 2/20\n",
            "5/5 [==============================] - 24s 5s/step - loss: 0.5142 - accuracy: 0.6083\n",
            "Epoch 3/20\n",
            "5/5 [==============================] - 21s 4s/step - loss: 0.6051 - accuracy: 0.6917\n",
            "Epoch 4/20\n",
            "5/5 [==============================] - 19s 4s/step - loss: 0.5105 - accuracy: 0.8250\n",
            "Epoch 5/20\n",
            "5/5 [==============================] - 23s 5s/step - loss: 0.3684 - accuracy: 0.9244\n",
            "Epoch 6/20\n",
            "5/5 [==============================] - 22s 4s/step - loss: 0.3388 - accuracy: 0.8833\n",
            "Epoch 7/20\n",
            "5/5 [==============================] - 18s 4s/step - loss: 0.2992 - accuracy: 0.9000\n",
            "Epoch 8/20\n",
            "5/5 [==============================] - 20s 4s/step - loss: 0.3887 - accuracy: 0.8583\n",
            "Epoch 9/20\n",
            "5/5 [==============================] - 21s 4s/step - loss: 0.2445 - accuracy: 0.9250\n",
            "Epoch 10/20\n",
            "5/5 [==============================] - 27s 5s/step - loss: 0.1244 - accuracy: 0.9833\n",
            "Epoch 11/20\n",
            "5/5 [==============================] - 21s 4s/step - loss: 0.2693 - accuracy: 0.8750\n",
            "Epoch 12/20\n",
            "5/5 [==============================] - 21s 4s/step - loss: 0.3581 - accuracy: 0.8500\n",
            "Epoch 13/20\n",
            "5/5 [==============================] - 24s 5s/step - loss: 0.1427 - accuracy: 0.9500\n",
            "Epoch 14/20\n",
            "5/5 [==============================] - 21s 4s/step - loss: 0.3021 - accuracy: 0.8908\n",
            "Epoch 15/20\n",
            "5/5 [==============================] - 17s 3s/step - loss: 0.1957 - accuracy: 0.9333\n",
            "Epoch 16/20\n",
            "5/5 [==============================] - 19s 4s/step - loss: 0.0516 - accuracy: 0.9917\n",
            "Epoch 17/20\n",
            "5/5 [==============================] - 23s 5s/step - loss: 0.0506 - accuracy: 0.9833\n",
            "Epoch 18/20\n",
            "5/5 [==============================] - 23s 5s/step - loss: 0.0533 - accuracy: 0.9750\n",
            "Epoch 19/20\n",
            "5/5 [==============================] - 20s 4s/step - loss: 0.0504 - accuracy: 0.9750\n",
            "Epoch 20/20\n",
            "5/5 [==============================] - 20s 4s/step - loss: 0.1849 - accuracy: 0.9333\n"
          ],
          "name": "stdout"
        },
        {
          "output_type": "execute_result",
          "data": {
            "text/plain": [
              "'\\n#sess=tf.compat.v1.InteractiveSession()\\n\\nX_tensor = tf.cast(X_tensor, tf.float32)\\ny=model(X_tensor)\\n  #tf.enable_eager_execution()\\nprint(y)\\nfrom keras import backend as K\\n\\nk_value = K.eval(y)\\nprint(k_value[0])\\n'"
            ]
          },
          "metadata": {
            "tags": []
          },
          "execution_count": 92
        }
      ]
    },
    {
      "cell_type": "code",
      "metadata": {
        "id": "XRw-FGiNdk4J",
        "colab_type": "code",
        "colab": {}
      },
      "source": [
        "batchx_test=[]\n",
        "print(len(X_testing))\n",
        "count=0\n",
        "for X_test in X_testing:\n",
        "  count+=1\n",
        "  img=io.imread(X_test)\n",
        "  gray = np.asarray(img)\n",
        "  #grayscale = rgb2gray(gray)\n",
        "  image_downscaled = resize(gray, (128, 128))\n",
        "  #print(image_downscaled.shape)\n",
        "  if(image_downscaled.shape!=(128,128)):\n",
        "\n",
        "    #show_images([image_downscaled])\n",
        "    batchx_test.append(image_downscaled)\n",
        "  if(count==400):\n",
        "    break\n",
        "  print(count)\n",
        "batchx_test_tensor = tf.convert_to_tensor(batchx_test)\n",
        "batchy_test_tensor = tf.convert_to_tensor(y_testing[0:400])"
      ],
      "execution_count": 0,
      "outputs": []
    },
    {
      "cell_type": "code",
      "metadata": {
        "id": "5r7ut3dYe-2Q",
        "colab_type": "code",
        "colab": {
          "base_uri": "https://localhost:8080/",
          "height": 50
        },
        "outputId": "ad28bc6e-e563-485b-a755-2e947f634f51"
      },
      "source": [
        "print(batchx_test_tensor.shape)\n",
        "print(batchy_test_tensor.shape)"
      ],
      "execution_count": 94,
      "outputs": [
        {
          "output_type": "stream",
          "text": [
            "(400, 128, 128, 3)\n",
            "(400, 1)\n"
          ],
          "name": "stdout"
        }
      ]
    },
    {
      "cell_type": "code",
      "metadata": {
        "id": "rDxPPyXAdrH3",
        "colab_type": "code",
        "colab": {
          "base_uri": "https://localhost:8080/",
          "height": 84
        },
        "outputId": "5025bdf0-e5b0-43e0-9917-1c68a1bd4680"
      },
      "source": [
        "batchx_test_tensor32 = tf.cast(batchx_test_tensor, tf.float32)\n",
        "y=model(batchx_test_tensor32)\n",
        "from keras import backend as K\n",
        "\n",
        "k_value = K.eval(y)\n",
        "k_value=np.round(k_value)\n",
        "acc=1- (sum(abs(k_value[0:400]-y_testing[0:400]))/400)\n",
        "print(acc)\n",
        "\n",
        "score = model.evaluate(batchx_test_tensor, batchy_test_tensor,steps=10, verbose=2)\n",
        "\n",
        "\n",
        "print('Test loss:', score[0])\n",
        "print('Test accuracy:', score[1])\n",
        "\n",
        "# serialize model to JSON\n",
        "model_json = model.to_json()\n",
        "with open(\"model2.json\", \"w\") as json_file:\n",
        "    json_file.write(model_json)\n",
        "# serialize weights to HDF5\n",
        "model.save_weights(\"/content/drive/My Drive/modelnew.h5\")\n",
        "print(\"Saved model to disk\")\n"
      ],
      "execution_count": 95,
      "outputs": [
        {
          "output_type": "stream",
          "text": [
            "[0.96]\n",
            "Test loss: 0.00971626490354538\n",
            "Test accuracy: 9.599999785423279\n",
            "Saved model to disk\n"
          ],
          "name": "stdout"
        }
      ]
    },
    {
      "cell_type": "code",
      "metadata": {
        "id": "kgcQ7Nx2mZOq",
        "colab_type": "code",
        "colab": {
          "base_uri": "https://localhost:8080/",
          "height": 297
        },
        "outputId": "85e85234-4a35-4b68-d403-c57ae0cf1618"
      },
      "source": [
        "name=X_validate[13]\n",
        "img=io.imread(name)\n",
        "gray = np.asarray(img)\n",
        "#grayscale = rgb2gray(gray)\n",
        "image_downscaled = resize(gray, (128, 128))\n",
        "show_images([image_downscaled])\n",
        "batchx_valid_tensor = tf.convert_to_tensor([image_downscaled])\n",
        "batchx_valid_tensor = tf.cast(batchx_valid_tensor, tf.float32)\n",
        "yvalue=model(batchx_valid_tensor)\n",
        "k_value = K.eval(yvalue)\n",
        "k_value=np.round(k_value)\n",
        "print(k_value)"
      ],
      "execution_count": 106,
      "outputs": [
        {
          "output_type": "display_data",
          "data": {
            "image/png": "[encoded data removed]",
            "text/plain": [
              "<Figure size 432x288 with 1 Axes>"
            ]
          },
          "metadata": {
            "tags": [],
            "needs_background": "light"
          }
        },
        {
          "output_type": "stream",
          "text": [
            "[[1.]]\n"
          ],
          "name": "stdout"
        }
      ]
    },
    {
      "cell_type": "code",
      "metadata": {
        "id": "xEXjXF7BdqSd",
        "colab_type": "code",
        "colab": {}
      },
      "source": [
        ""
      ],
      "execution_count": 0,
      "outputs": []
    }
  ]
}